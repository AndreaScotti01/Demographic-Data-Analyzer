{
 "cells": [
  {
   "cell_type": "code",
   "execution_count": 113,
   "id": "9e199027",
   "metadata": {
    "ExecuteTime": {
     "end_time": "2022-09-07T20:39:55.206035Z",
     "start_time": "2022-09-07T20:39:55.201024Z"
    }
   },
   "outputs": [],
   "source": [
    "import numpy as np\n",
    "import pandas as pd"
   ]
  },
  {
   "cell_type": "code",
   "execution_count": 114,
   "id": "cf7b0633",
   "metadata": {
    "ExecuteTime": {
     "end_time": "2022-09-07T20:39:55.284982Z",
     "start_time": "2022-09-07T20:39:55.207019Z"
    }
   },
   "outputs": [
    {
     "data": {
      "text/html": [
       "<div>\n",
       "<style scoped>\n",
       "    .dataframe tbody tr th:only-of-type {\n",
       "        vertical-align: middle;\n",
       "    }\n",
       "\n",
       "    .dataframe tbody tr th {\n",
       "        vertical-align: top;\n",
       "    }\n",
       "\n",
       "    .dataframe thead th {\n",
       "        text-align: right;\n",
       "    }\n",
       "</style>\n",
       "<table border=\"1\" class=\"dataframe\">\n",
       "  <thead>\n",
       "    <tr style=\"text-align: right;\">\n",
       "      <th></th>\n",
       "      <th>age</th>\n",
       "      <th>workclass</th>\n",
       "      <th>fnlwgt</th>\n",
       "      <th>education</th>\n",
       "      <th>education-num</th>\n",
       "      <th>marital-status</th>\n",
       "      <th>occupation</th>\n",
       "      <th>relationship</th>\n",
       "      <th>race</th>\n",
       "      <th>sex</th>\n",
       "      <th>capital-gain</th>\n",
       "      <th>capital-loss</th>\n",
       "      <th>hours-per-week</th>\n",
       "      <th>native-country</th>\n",
       "      <th>salary</th>\n",
       "    </tr>\n",
       "  </thead>\n",
       "  <tbody>\n",
       "    <tr>\n",
       "      <th>0</th>\n",
       "      <td>39</td>\n",
       "      <td>State-gov</td>\n",
       "      <td>77516</td>\n",
       "      <td>Bachelors</td>\n",
       "      <td>13</td>\n",
       "      <td>Never-married</td>\n",
       "      <td>Adm-clerical</td>\n",
       "      <td>Not-in-family</td>\n",
       "      <td>White</td>\n",
       "      <td>Male</td>\n",
       "      <td>2174</td>\n",
       "      <td>0</td>\n",
       "      <td>40</td>\n",
       "      <td>United-States</td>\n",
       "      <td>&lt;=50K</td>\n",
       "    </tr>\n",
       "    <tr>\n",
       "      <th>1</th>\n",
       "      <td>50</td>\n",
       "      <td>Self-emp-not-inc</td>\n",
       "      <td>83311</td>\n",
       "      <td>Bachelors</td>\n",
       "      <td>13</td>\n",
       "      <td>Married-civ-spouse</td>\n",
       "      <td>Exec-managerial</td>\n",
       "      <td>Husband</td>\n",
       "      <td>White</td>\n",
       "      <td>Male</td>\n",
       "      <td>0</td>\n",
       "      <td>0</td>\n",
       "      <td>13</td>\n",
       "      <td>United-States</td>\n",
       "      <td>&lt;=50K</td>\n",
       "    </tr>\n",
       "    <tr>\n",
       "      <th>2</th>\n",
       "      <td>38</td>\n",
       "      <td>Private</td>\n",
       "      <td>215646</td>\n",
       "      <td>HS-grad</td>\n",
       "      <td>9</td>\n",
       "      <td>Divorced</td>\n",
       "      <td>Handlers-cleaners</td>\n",
       "      <td>Not-in-family</td>\n",
       "      <td>White</td>\n",
       "      <td>Male</td>\n",
       "      <td>0</td>\n",
       "      <td>0</td>\n",
       "      <td>40</td>\n",
       "      <td>United-States</td>\n",
       "      <td>&lt;=50K</td>\n",
       "    </tr>\n",
       "    <tr>\n",
       "      <th>3</th>\n",
       "      <td>53</td>\n",
       "      <td>Private</td>\n",
       "      <td>234721</td>\n",
       "      <td>11th</td>\n",
       "      <td>7</td>\n",
       "      <td>Married-civ-spouse</td>\n",
       "      <td>Handlers-cleaners</td>\n",
       "      <td>Husband</td>\n",
       "      <td>Black</td>\n",
       "      <td>Male</td>\n",
       "      <td>0</td>\n",
       "      <td>0</td>\n",
       "      <td>40</td>\n",
       "      <td>United-States</td>\n",
       "      <td>&lt;=50K</td>\n",
       "    </tr>\n",
       "    <tr>\n",
       "      <th>4</th>\n",
       "      <td>28</td>\n",
       "      <td>Private</td>\n",
       "      <td>338409</td>\n",
       "      <td>Bachelors</td>\n",
       "      <td>13</td>\n",
       "      <td>Married-civ-spouse</td>\n",
       "      <td>Prof-specialty</td>\n",
       "      <td>Wife</td>\n",
       "      <td>Black</td>\n",
       "      <td>Female</td>\n",
       "      <td>0</td>\n",
       "      <td>0</td>\n",
       "      <td>40</td>\n",
       "      <td>Cuba</td>\n",
       "      <td>&lt;=50K</td>\n",
       "    </tr>\n",
       "    <tr>\n",
       "      <th>...</th>\n",
       "      <td>...</td>\n",
       "      <td>...</td>\n",
       "      <td>...</td>\n",
       "      <td>...</td>\n",
       "      <td>...</td>\n",
       "      <td>...</td>\n",
       "      <td>...</td>\n",
       "      <td>...</td>\n",
       "      <td>...</td>\n",
       "      <td>...</td>\n",
       "      <td>...</td>\n",
       "      <td>...</td>\n",
       "      <td>...</td>\n",
       "      <td>...</td>\n",
       "      <td>...</td>\n",
       "    </tr>\n",
       "    <tr>\n",
       "      <th>95</th>\n",
       "      <td>29</td>\n",
       "      <td>Local-gov</td>\n",
       "      <td>115585</td>\n",
       "      <td>Some-college</td>\n",
       "      <td>10</td>\n",
       "      <td>Never-married</td>\n",
       "      <td>Handlers-cleaners</td>\n",
       "      <td>Not-in-family</td>\n",
       "      <td>White</td>\n",
       "      <td>Male</td>\n",
       "      <td>0</td>\n",
       "      <td>0</td>\n",
       "      <td>50</td>\n",
       "      <td>United-States</td>\n",
       "      <td>&lt;=50K</td>\n",
       "    </tr>\n",
       "    <tr>\n",
       "      <th>96</th>\n",
       "      <td>48</td>\n",
       "      <td>Self-emp-not-inc</td>\n",
       "      <td>191277</td>\n",
       "      <td>Doctorate</td>\n",
       "      <td>16</td>\n",
       "      <td>Married-civ-spouse</td>\n",
       "      <td>Prof-specialty</td>\n",
       "      <td>Husband</td>\n",
       "      <td>White</td>\n",
       "      <td>Male</td>\n",
       "      <td>0</td>\n",
       "      <td>1902</td>\n",
       "      <td>60</td>\n",
       "      <td>United-States</td>\n",
       "      <td>&gt;50K</td>\n",
       "    </tr>\n",
       "    <tr>\n",
       "      <th>97</th>\n",
       "      <td>37</td>\n",
       "      <td>Private</td>\n",
       "      <td>202683</td>\n",
       "      <td>Some-college</td>\n",
       "      <td>10</td>\n",
       "      <td>Married-civ-spouse</td>\n",
       "      <td>Sales</td>\n",
       "      <td>Husband</td>\n",
       "      <td>White</td>\n",
       "      <td>Male</td>\n",
       "      <td>0</td>\n",
       "      <td>0</td>\n",
       "      <td>48</td>\n",
       "      <td>United-States</td>\n",
       "      <td>&gt;50K</td>\n",
       "    </tr>\n",
       "    <tr>\n",
       "      <th>98</th>\n",
       "      <td>48</td>\n",
       "      <td>Private</td>\n",
       "      <td>171095</td>\n",
       "      <td>Assoc-acdm</td>\n",
       "      <td>12</td>\n",
       "      <td>Divorced</td>\n",
       "      <td>Exec-managerial</td>\n",
       "      <td>Unmarried</td>\n",
       "      <td>White</td>\n",
       "      <td>Female</td>\n",
       "      <td>0</td>\n",
       "      <td>0</td>\n",
       "      <td>40</td>\n",
       "      <td>England</td>\n",
       "      <td>&lt;=50K</td>\n",
       "    </tr>\n",
       "    <tr>\n",
       "      <th>99</th>\n",
       "      <td>32</td>\n",
       "      <td>Federal-gov</td>\n",
       "      <td>249409</td>\n",
       "      <td>HS-grad</td>\n",
       "      <td>9</td>\n",
       "      <td>Never-married</td>\n",
       "      <td>Other-service</td>\n",
       "      <td>Own-child</td>\n",
       "      <td>Black</td>\n",
       "      <td>Male</td>\n",
       "      <td>0</td>\n",
       "      <td>0</td>\n",
       "      <td>40</td>\n",
       "      <td>United-States</td>\n",
       "      <td>&lt;=50K</td>\n",
       "    </tr>\n",
       "  </tbody>\n",
       "</table>\n",
       "<p>100 rows × 15 columns</p>\n",
       "</div>"
      ],
      "text/plain": [
       "    age         workclass  fnlwgt     education  education-num  \\\n",
       "0    39         State-gov   77516     Bachelors             13   \n",
       "1    50  Self-emp-not-inc   83311     Bachelors             13   \n",
       "2    38           Private  215646       HS-grad              9   \n",
       "3    53           Private  234721          11th              7   \n",
       "4    28           Private  338409     Bachelors             13   \n",
       "..  ...               ...     ...           ...            ...   \n",
       "95   29         Local-gov  115585  Some-college             10   \n",
       "96   48  Self-emp-not-inc  191277     Doctorate             16   \n",
       "97   37           Private  202683  Some-college             10   \n",
       "98   48           Private  171095    Assoc-acdm             12   \n",
       "99   32       Federal-gov  249409       HS-grad              9   \n",
       "\n",
       "        marital-status         occupation   relationship   race     sex  \\\n",
       "0        Never-married       Adm-clerical  Not-in-family  White    Male   \n",
       "1   Married-civ-spouse    Exec-managerial        Husband  White    Male   \n",
       "2             Divorced  Handlers-cleaners  Not-in-family  White    Male   \n",
       "3   Married-civ-spouse  Handlers-cleaners        Husband  Black    Male   \n",
       "4   Married-civ-spouse     Prof-specialty           Wife  Black  Female   \n",
       "..                 ...                ...            ...    ...     ...   \n",
       "95       Never-married  Handlers-cleaners  Not-in-family  White    Male   \n",
       "96  Married-civ-spouse     Prof-specialty        Husband  White    Male   \n",
       "97  Married-civ-spouse              Sales        Husband  White    Male   \n",
       "98            Divorced    Exec-managerial      Unmarried  White  Female   \n",
       "99       Never-married      Other-service      Own-child  Black    Male   \n",
       "\n",
       "    capital-gain  capital-loss  hours-per-week native-country salary  \n",
       "0           2174             0              40  United-States  <=50K  \n",
       "1              0             0              13  United-States  <=50K  \n",
       "2              0             0              40  United-States  <=50K  \n",
       "3              0             0              40  United-States  <=50K  \n",
       "4              0             0              40           Cuba  <=50K  \n",
       "..           ...           ...             ...            ...    ...  \n",
       "95             0             0              50  United-States  <=50K  \n",
       "96             0          1902              60  United-States   >50K  \n",
       "97             0             0              48  United-States   >50K  \n",
       "98             0             0              40        England  <=50K  \n",
       "99             0             0              40  United-States  <=50K  \n",
       "\n",
       "[100 rows x 15 columns]"
      ]
     },
     "execution_count": 114,
     "metadata": {},
     "output_type": "execute_result"
    }
   ],
   "source": [
    "df = pd.read_csv(filepath_or_buffer=\"E:/DOWNLOADS/adult.data.csv\")\n",
    "df.head(100)"
   ]
  },
  {
   "cell_type": "markdown",
   "id": "0ffbef39",
   "metadata": {},
   "source": [
    " How many people of each race are represented in this dataset? This should be a Pandas series with race names as the index labels. (race column)"
   ]
  },
  {
   "cell_type": "code",
   "execution_count": 290,
   "id": "0b141059",
   "metadata": {
    "ExecuteTime": {
     "end_time": "2022-09-07T21:53:47.954375Z",
     "start_time": "2022-09-07T21:53:47.932392Z"
    }
   },
   "outputs": [
    {
     "data": {
      "text/plain": [
       "array([27816,  3124,  1039,   311,   271], dtype=int64)"
      ]
     },
     "execution_count": 290,
     "metadata": {},
     "output_type": "execute_result"
    }
   ],
   "source": [
    "race_count = df[\"race\"].value_counts().unique()\n",
    "race_count"
   ]
  },
  {
   "cell_type": "markdown",
   "id": "2901f80d",
   "metadata": {},
   "source": [
    "What is the average age of men?"
   ]
  },
  {
   "cell_type": "code",
   "execution_count": 116,
   "id": "e0d6cd85",
   "metadata": {
    "ExecuteTime": {
     "end_time": "2022-09-07T20:39:55.316889Z",
     "start_time": "2022-09-07T20:39:55.301908Z"
    }
   },
   "outputs": [
    {
     "data": {
      "text/plain": [
       "39.4"
      ]
     },
     "execution_count": 116,
     "metadata": {},
     "output_type": "execute_result"
    }
   ],
   "source": [
    "average_age_men = round(df.loc[df[\"sex\"] == \"Male\"].age.mean(),1)\n",
    "average_age_men"
   ]
  },
  {
   "cell_type": "markdown",
   "id": "76048723",
   "metadata": {},
   "source": [
    " What is the percentage of people who have a Bachelor's degree?"
   ]
  },
  {
   "cell_type": "code",
   "execution_count": 117,
   "id": "b4a14ea5",
   "metadata": {
    "ExecuteTime": {
     "end_time": "2022-09-07T20:39:55.332822Z",
     "start_time": "2022-09-07T20:39:55.317878Z"
    }
   },
   "outputs": [
    {
     "data": {
      "text/plain": [
       "16.4"
      ]
     },
     "execution_count": 117,
     "metadata": {},
     "output_type": "execute_result"
    }
   ],
   "source": [
    "percentage_bachelors = round(df.loc[df[\"education\"] == \"Bachelors\"].education.count()/df.shape[0]*100,1)\n",
    "percentage_bachelors"
   ]
  },
  {
   "cell_type": "markdown",
   "id": "c70f788d",
   "metadata": {},
   "source": [
    " What percentage of people with advanced education (Bachelors, Masters, or Doctorate) make more than 50K?\n",
    "\n",
    " What percentage of people without advanced education make more than 50K?"
   ]
  },
  {
   "cell_type": "code",
   "execution_count": 131,
   "id": "bf123fe4",
   "metadata": {
    "ExecuteTime": {
     "end_time": "2022-09-07T20:44:45.757439Z",
     "start_time": "2022-09-07T20:44:45.733363Z"
    }
   },
   "outputs": [
    {
     "data": {
      "text/plain": [
       "46.5"
      ]
     },
     "execution_count": 131,
     "metadata": {},
     "output_type": "execute_result"
    }
   ],
   "source": [
    "filter1 = (df[\"education\"] == \"Bachelors\") | (df[\"education\"] == \"Masters\") | (df[\"education\"] == \"Doctorate\")\n",
    "filter2 = (df[\"salary\"] == \">50K\")\n",
    "higher_education = round((df.loc[filter1 & filter2].count()[0]/df.loc[filter1].count()[0])*100,1)\n",
    "higher_education"
   ]
  },
  {
   "cell_type": "code",
   "execution_count": 139,
   "id": "9e2afd1f",
   "metadata": {
    "ExecuteTime": {
     "end_time": "2022-09-07T20:48:53.084700Z",
     "start_time": "2022-09-07T20:48:53.054478Z"
    }
   },
   "outputs": [
    {
     "data": {
      "text/plain": [
       "17.4"
      ]
     },
     "execution_count": 139,
     "metadata": {},
     "output_type": "execute_result"
    }
   ],
   "source": [
    "filter3 = (df[\"education\"] != \"Bachelors\") & (df[\"education\"] != \"Masters\") & (df[\"education\"] != \"Doctorate\")\n",
    "lower_education = round((df.loc[filter3 & filter2].count()[0]/df.loc[filter3].count()[0])*100,1)\n",
    "lower_education"
   ]
  },
  {
   "cell_type": "markdown",
   "id": "cfdbdce3",
   "metadata": {},
   "source": [
    "What is the minimum number of hours a person works per week?"
   ]
  },
  {
   "cell_type": "code",
   "execution_count": 145,
   "id": "9849d469",
   "metadata": {
    "ExecuteTime": {
     "end_time": "2022-09-07T20:59:30.929439Z",
     "start_time": "2022-09-07T20:59:30.918493Z"
    }
   },
   "outputs": [
    {
     "data": {
      "text/plain": [
       "1"
      ]
     },
     "execution_count": 145,
     "metadata": {},
     "output_type": "execute_result"
    }
   ],
   "source": [
    "min_work_hours = df[\"hours-per-week\"].min()\n",
    "min_work_hours"
   ]
  },
  {
   "cell_type": "markdown",
   "id": "40b5c17d",
   "metadata": {},
   "source": [
    "What percentage of the people who work the minimum number of hours per week have a salary of more than 50K?\n"
   ]
  },
  {
   "cell_type": "code",
   "execution_count": 152,
   "id": "1b32574b",
   "metadata": {
    "ExecuteTime": {
     "end_time": "2022-09-07T21:05:33.576742Z",
     "start_time": "2022-09-07T21:05:33.558598Z"
    }
   },
   "outputs": [
    {
     "data": {
      "text/plain": [
       "10.0"
      ]
     },
     "execution_count": 152,
     "metadata": {},
     "output_type": "execute_result"
    }
   ],
   "source": [
    "filter4 = df.loc[(df[\"hours-per-week\"] == min_work_hours)].count()[0]\n",
    "rich_percentage = round(df.loc[(df[\"hours-per-week\"] == min_work_hours) & (df[\"salary\"] == \">50K\")].count()[0]/filter4*100,0)\n",
    "rich_percentage"
   ]
  },
  {
   "cell_type": "markdown",
   "id": "f5e8e070",
   "metadata": {},
   "source": [
    "What country has the highest percentage of people that earn >50K and what is that percentage?"
   ]
  },
  {
   "cell_type": "code",
   "execution_count": 249,
   "id": "64c3aa65",
   "metadata": {
    "ExecuteTime": {
     "end_time": "2022-09-07T21:34:36.802759Z",
     "start_time": "2022-09-07T21:34:36.789788Z"
    }
   },
   "outputs": [
    {
     "name": "stdout",
     "output_type": "stream",
     "text": [
      "Iran 41.9\n"
     ]
    }
   ],
   "source": [
    "earnings_by_states = df[filter2].groupby(by=\"native-country\")[\"salary\"].count()\n",
    "people_in_country = df.groupby(by=\"native-country\")[\"salary\"].count()\n",
    "ratio_df = (earnings_by_states/people_in_country)\n",
    "filter5 = ratio_df == ratio_df.max()\n",
    "\n",
    "highest_earning_country = ratio_df[filter5].index[0]\n",
    "highest_earning_country_percentage = round(ratio_df[filter5][0]*100,1)\n",
    "\n",
    "print(highest_earning_country,highest_earning_country_percentage)"
   ]
  },
  {
   "cell_type": "markdown",
   "id": "c56ff4bc",
   "metadata": {},
   "source": [
    "Identify the most popular occupation for those who earn >50K in India."
   ]
  },
  {
   "cell_type": "code",
   "execution_count": 288,
   "id": "2a1d1743",
   "metadata": {
    "ExecuteTime": {
     "end_time": "2022-09-07T21:50:12.437965Z",
     "start_time": "2022-09-07T21:50:12.420016Z"
    }
   },
   "outputs": [
    {
     "data": {
      "text/plain": [
       "'Prof-specialty'"
      ]
     },
     "execution_count": 288,
     "metadata": {},
     "output_type": "execute_result"
    }
   ],
   "source": [
    "india_df  = df.loc[(df[\"native-country\"] == \"India\")]\n",
    "all_occupatio_india = india_df.loc[filter2].groupby(by=\"occupation\").count()[\"salary\"]\n",
    "filter7 = (all_occupatio_india == all_occupatio_india.max())\n",
    "top_IN_occupation = all_occupatio_india[filter7].index[0]\n",
    "top_IN_occupation"
   ]
  }
 ],
 "metadata": {
  "kernelspec": {
   "display_name": "Python 3 (ipykernel)",
   "language": "python",
   "name": "python3"
  },
  "language_info": {
   "codemirror_mode": {
    "name": "ipython",
    "version": 3
   },
   "file_extension": ".py",
   "mimetype": "text/x-python",
   "name": "python",
   "nbconvert_exporter": "python",
   "pygments_lexer": "ipython3",
   "version": "3.9.13"
  },
  "toc": {
   "base_numbering": 1,
   "nav_menu": {},
   "number_sections": true,
   "sideBar": true,
   "skip_h1_title": false,
   "title_cell": "Table of Contents",
   "title_sidebar": "Contents",
   "toc_cell": false,
   "toc_position": {},
   "toc_section_display": true,
   "toc_window_display": false
  },
  "varInspector": {
   "cols": {
    "lenName": 16,
    "lenType": 16,
    "lenVar": 40
   },
   "kernels_config": {
    "python": {
     "delete_cmd_postfix": "",
     "delete_cmd_prefix": "del ",
     "library": "var_list.py",
     "varRefreshCmd": "print(var_dic_list())"
    },
    "r": {
     "delete_cmd_postfix": ") ",
     "delete_cmd_prefix": "rm(",
     "library": "var_list.r",
     "varRefreshCmd": "cat(var_dic_list()) "
    }
   },
   "types_to_exclude": [
    "module",
    "function",
    "builtin_function_or_method",
    "instance",
    "_Feature"
   ],
   "window_display": false
  }
 },
 "nbformat": 4,
 "nbformat_minor": 5
}
